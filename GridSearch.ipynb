{
 "cells": [
  {
   "cell_type": "code",
   "execution_count": 26,
   "metadata": {},
   "outputs": [],
   "source": [
    "import pandas as pd\n",
    "import numpy as np\n",
    "import pickle\n",
    "import sklearn\n",
    "from sklearn.ensemble import RandomForestClassifier\n",
    "from sklearn.model_selection import train_test_split\n",
    "from sklearn.model_selection import RandomizedSearchCV\n",
    "from sklearn.metrics import classification_report\n",
    "# Calculate f1 score on test data after gridsearch\n",
    "# create script: function to create train test split, function for griserach, print metrics\n",
    "# and save best model."
   ]
  },
  {
   "cell_type": "code",
   "execution_count": 2,
   "metadata": {},
   "outputs": [],
   "source": [
    "def split_data(file_name, test_size=0.25):\n",
    "    \"\"\"This method reads the xls fil, and do the train test split.\n",
    "    Args:\n",
    "        file_name (str): excel file name\n",
    "        test_size (float): traction for test set\n",
    "    Returns:\n",
    "        X_train, X_test, y_train, y_test (np.arrays)\n",
    "    \"\"\"\n",
    "    df = pd.read_excel(file_name, header=1)\n",
    "    # put ID as DataFrame INDEX\n",
    "    df.set_index('ID', inplace=True)\n",
    "    drop = ['PAY_AMT5', 'BILL_AMT5','BILL_AMT4','PAY_3','PAY_4',\n",
    "     'EDUCATION','PAY_6','SEX','MARRIAGE','PAY_5']\n",
    "    # train test split\n",
    "    X, y = df.drop(['default payment next month']+drop, axis=1).values, df['default payment next month'].values\n",
    "    return train_test_split(X, y, test_size=test_size, random_state=42)"
   ]
  },
  {
   "cell_type": "code",
   "execution_count": 3,
   "metadata": {},
   "outputs": [],
   "source": [
    "file_name = \"default of credit card clients.xls\"\n",
    "X_train, X_test, y_train, y_test = split_data(file_name)"
   ]
  },
  {
   "cell_type": "code",
   "execution_count": 19,
   "metadata": {},
   "outputs": [],
   "source": [
    "# define hyperparameter space for random search\n",
    "dist = dict(n_estimators=[200, 300, 500], max_depth=[7, 13, 15], min_samples_leaf=[5, 10, 20],\n",
    "           max_samples=[0.6, 0.8], min_samples_split=[10, 6, 20], max_features=[0.7, 0.8])\n",
    "\n",
    "rfc = RandomForestClassifier(bootstrap=True, class_weight='balanced_subsample', random_state=42)\n",
    "clf = RandomizedSearchCV(rfc, dist,refit=True,\n",
    "                         random_state=42, n_iter=40, scoring='f1', n_jobs=8)\n",
    "search = clf.fit(X_train, y_train)"
   ]
  },
  {
   "cell_type": "code",
   "execution_count": 35,
   "metadata": {},
   "outputs": [
    {
     "name": "stdout",
     "output_type": "stream",
     "text": [
      "Best f1 from Kfold cross validation: 0.546\n",
      "\n",
      "{'n_estimators': 300, 'min_samples_split': 6, 'min_samples_leaf': 20, 'max_samples': 0.8, 'max_features': 0.8, 'max_depth': 15}\n",
      "\n",
      "CLASSIFICATON REPORT FOR TEST SET\n",
      "\n",
      "              precision    recall  f1-score   support\n",
      "\n",
      "           0       0.87      0.85      0.86      5873\n",
      "           1       0.50      0.55      0.52      1627\n",
      "\n",
      "    accuracy                           0.78      7500\n",
      "   macro avg       0.68      0.70      0.69      7500\n",
      "weighted avg       0.79      0.78      0.79      7500\n",
      "\n"
     ]
    }
   ],
   "source": [
    "print(f\"Best f1 from Kfold cross validation: {round(search.best_score_, 3)}\\n\")\n",
    "print(search.best_params_)\n",
    "y_pred = search.best_estimator_.predict(X_test)\n",
    "print(\"\\nCLASSIFICATON REPORT FOR TEST SET:\\n\")\n",
    "print(classification_report(y_test, y_pred))"
   ]
  },
  {
   "cell_type": "code",
   "execution_count": 27,
   "metadata": {},
   "outputs": [],
   "source": [
    "pkl_filename = \"model.pickle\"\n",
    "with open(pkl_filename, 'wb') as file:\n",
    "    pickle.dump(search.best_estimator_, file)"
   ]
  },
  {
   "cell_type": "code",
   "execution_count": null,
   "metadata": {},
   "outputs": [],
   "source": []
  }
 ],
 "metadata": {
  "kernelspec": {
   "display_name": "credit_card",
   "language": "python",
   "name": "credit_card"
  },
  "language_info": {
   "codemirror_mode": {
    "name": "ipython",
    "version": 3
   },
   "file_extension": ".py",
   "mimetype": "text/x-python",
   "name": "python",
   "nbconvert_exporter": "python",
   "pygments_lexer": "ipython3",
   "version": "3.6.13"
  }
 },
 "nbformat": 4,
 "nbformat_minor": 4
}
