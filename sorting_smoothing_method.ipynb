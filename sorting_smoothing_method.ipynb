{
 "cells": [
  {
   "cell_type": "markdown",
   "metadata": {},
   "source": [
    "This a method to estimate the real probability of default. As proposed by Yeh, I. C., & Lien, C. H. (2009):\n",
    "\n",
    "\"*To estimate the real probability of default, the novel\n",
    "approach, called Sorting Smoothing Method (SSM), was\n",
    "proposed in this study. Firstly, according to the predictive\n",
    "probability, order the validation data from the minimum to\n",
    "the maximum. Secondly, use the SSM to estimate the real\n",
    "probability of default as follows:*\"\n",
    "\n",
    "$$ P_{i} = \\frac{Y_{i-n}+.......+Y_{i}+......+Y_{i+n}}{2n+1} $$\n",
    "Where $n$ is the number of neighbors to smoot."
   ]
  },
  {
   "cell_type": "code",
   "execution_count": 2,
   "metadata": {},
   "outputs": [],
   "source": [
    "import pandas as pd\n",
    "import numpy as np\n",
    "import seaborn as sns\n",
    "# import jtplot submodule from jupyterthemes\n",
    "from jupyterthemes import jtplot\n",
    "# set plot style if no arguments provided\n",
    "jtplot.style()\n",
    "from sklearn.model_selection import train_test_split\n",
    "from sklearn.metrics import classification_report\n",
    "from imblearn.ensemble import BalancedRandomForestClassifier"
   ]
  },
  {
   "cell_type": "code",
   "execution_count": 3,
   "metadata": {},
   "outputs": [],
   "source": [
    "df = pd.read_excel(\"default of credit card clients.xls\", header=1)\n",
    "# put ID as DataFrame INDEX\n",
    "df.set_index('ID', inplace=True)\n",
    "\n",
    "drop = ['PAY_AMT5', 'BILL_AMT5','BILL_AMT4','PAY_3','PAY_4',\n",
    " 'EDUCATION','PAY_6','SEX','MARRIAGE','PAY_5']\n",
    "# train test split\n",
    "X, y = df.drop(['default payment next month']+drop, axis=1).values, df['default payment next month'].values\n",
    "X_train, X_test, y_train, y_test = train_test_split(X, y, test_size=0.25, random_state=42)"
   ]
  },
  {
   "cell_type": "code",
   "execution_count": 4,
   "metadata": {},
   "outputs": [
    {
     "data": {
      "text/plain": [
       "BalancedRandomForestClassifier(max_depth=15, max_features=0.7, max_samples=0.7,\n",
       "                               min_samples_leaf=10, min_samples_split=20,\n",
       "                               n_estimators=200, n_jobs=4, random_state=42,\n",
       "                               sampling_strategy=0.6)"
      ]
     },
     "execution_count": 4,
     "metadata": {},
     "output_type": "execute_result"
    }
   ],
   "source": [
    "model = BalancedRandomForestClassifier(n_estimators=200, max_depth=15, bootstrap=True,\n",
    "                                       min_samples_leaf=10, max_samples=0.7,\n",
    "                                       min_samples_split=20, max_features=0.7,\n",
    "                                       random_state=42, n_jobs=4, sampling_strategy=0.6)\n",
    "model.fit(X_train, y_train)"
   ]
  },
  {
   "cell_type": "code",
   "execution_count": 16,
   "metadata": {},
   "outputs": [],
   "source": [
    "y_proba = model.predict_proba(X_test)[:, 1]\n",
    "df_smoothing = pd.DataFrame()\n",
    "df_smoothing['y_proba'] = y_proba\n",
    "df_smoothing['default'] = y_test\n",
    "df_smoothing.sort_values('y_proba', inplace=True)"
   ]
  },
  {
   "cell_type": "code",
   "execution_count": 33,
   "metadata": {},
   "outputs": [],
   "source": [
    "n = 10\n",
    "smoothing = []\n",
    "for i in list(range(n, y_test.shape[0]-n+1)):\n",
    "    real_prob = df_smoothing.iloc[i-n:i+n+1, :]['default'].mean()\n",
    "    smoothing.append([df_smoothing['y_proba'].iloc[i], real_prob])\n",
    "    \n",
    "smoothing = pd.DataFrame(smoothing, columns=['model_proba', 'real_proba'])"
   ]
  },
  {
   "cell_type": "code",
   "execution_count": 38,
   "metadata": {},
   "outputs": [
    {
     "data": {
      "text/plain": [
       "<AxesSubplot:xlabel='model_proba', ylabel='real_proba'>"
      ]
     },
     "execution_count": 38,
     "metadata": {},
     "output_type": "execute_result"
    },
    {
     "data": {
      "image/png": "[encoded data removed]",
      "text/plain": [
       "<Figure size 460.8x403.2 with 1 Axes>"
      ]
     },
     "metadata": {},
     "output_type": "display_data"
    }
   ],
   "source": [
    "smoothing.plot.scatter(x='model_proba', y='real_proba', c='DarkBlue')"
   ]
  },
  {
   "cell_type": "code",
   "execution_count": 43,
   "metadata": {},
   "outputs": [],
   "source": [
    "from sklearn.linear_model import LinearRegression\n",
    "X = smoothing['model_proba'].values\n",
    "y = smoothing['real_proba'].values\n",
    "reg = LinearRegression().fit(X.reshape(-1, 1), y)"
   ]
  },
  {
   "cell_type": "code",
   "execution_count": 54,
   "metadata": {},
   "outputs": [
    {
     "name": "stdout",
     "output_type": "stream",
     "text": [
      "y = -0.0626 + 0.8301x \n",
      " r_2=0.8173\n"
     ]
    }
   ],
   "source": [
    "m = reg.coef_\n",
    "intercept = reg.intercept_\n",
    "r_2 = reg.score(X.reshape(-1, 1), y)\n",
    "\n",
    "print(f\"y = {round(intercept, 4)} + {round(m[0], 4)}x \\n r_2={round(r_2, 4)}\")"
   ]
  }
 ],
 "metadata": {
  "kernelspec": {
   "display_name": "credit_card",
   "language": "python",
   "name": "credit_card"
  },
  "language_info": {
   "codemirror_mode": {
    "name": "ipython",
    "version": 3
   },
   "file_extension": ".py",
   "mimetype": "text/x-python",
   "name": "python",
   "nbconvert_exporter": "python",
   "pygments_lexer": "ipython3",
   "version": "3.6.13"
  }
 },
 "nbformat": 4,
 "nbformat_minor": 4
}
