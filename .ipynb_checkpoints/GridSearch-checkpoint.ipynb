{
 "cells": [
  {
   "cell_type": "code",
   "execution_count": 1,
   "metadata": {},
   "outputs": [],
   "source": [
    "import pandas as pd\n",
    "import numpy as np\n",
    "import sklearn\n",
    "from sklearn.ensemble import RandomForestClassifier\n",
    "from sklearn.model_selection import train_test_split\n",
    "from sklearn.model_selection import RandomizedSearchCV\n",
    "from sklearn.metrics import classification_report\n",
    "# Calculate f1 score on test data after gridsearch\n",
    "# create script: function to create train test split, function for griserach, print metrics\n",
    "# and save best model."
   ]
  },
  {
   "cell_type": "code",
   "execution_count": 2,
   "metadata": {},
   "outputs": [],
   "source": [
    "def split_data(file_name, test_size=0.25):\n",
    "    \"\"\"This method reads the xls fil, and do the train test split.\n",
    "    Args:\n",
    "        file_name (str): excel file name\n",
    "        test_size (float): traction for test set\n",
    "    Returns:\n",
    "        X_train, X_test, y_train, y_test (np.arrays)\n",
    "    \"\"\"\n",
    "    df = pd.read_excel(file_name, header=1)\n",
    "    # put ID as DataFrame INDEX\n",
    "    df.set_index('ID', inplace=True)\n",
    "    drop = ['PAY_AMT5', 'BILL_AMT5','BILL_AMT4','PAY_3','PAY_4',\n",
    "     'EDUCATION','PAY_6','SEX','MARRIAGE','PAY_5']\n",
    "    # train test split\n",
    "    X, y = df.drop(['default payment next month']+drop, axis=1).values, df['default payment next month'].values\n",
    "    return train_test_split(X, y, test_size=test_size, random_state=42)"
   ]
  },
  {
   "cell_type": "code",
   "execution_count": 3,
   "metadata": {},
   "outputs": [],
   "source": [
    "file_name = \"default of credit card clients.xls\"\n",
    "X_train, X_test, y_train, y_test = split_data(file_name)"
   ]
  },
  {
   "cell_type": "code",
   "execution_count": 14,
   "metadata": {},
   "outputs": [],
   "source": [
    "# define hyperparameter space for random search\n",
    "dist = dict(n_estimators=[200, 300, 500], max_depth=[7, 13, 15], min_samples_leaf=[5, 10, 20],\n",
    "           max_samples=[0.6, 0.8], min_samples_split=[10, 6, 20], max_features=[0.7, 0.8])\n",
    "\n",
    "rfc = RandomForestClassifier(bootstrap=True, class_weight='balanced_subsample', random_state=42)\n",
    "clf = RandomizedSearchCV(rfc, dist,refit=True,\n",
    "                         random_state=42, n_iter=20, scoring='f1', n_jobs=8)\n",
    "search = clf.fit(X_train, y_train)"
   ]
  },
  {
   "cell_type": "code",
   "execution_count": 15,
   "metadata": {},
   "outputs": [
    {
     "data": {
      "text/plain": [
       "0.545871347291232"
      ]
     },
     "execution_count": 15,
     "metadata": {},
     "output_type": "execute_result"
    }
   ],
   "source": [
    "search.best_score_"
   ]
  },
  {
   "cell_type": "code",
   "execution_count": 7,
   "metadata": {},
   "outputs": [
    {
     "data": {
      "text/plain": [
       "0    5580\n",
       "1    1920\n",
       "dtype: int64"
      ]
     },
     "execution_count": 7,
     "metadata": {},
     "output_type": "execute_result"
    }
   ],
   "source": []
  },
  {
   "cell_type": "code",
   "execution_count": 16,
   "metadata": {},
   "outputs": [
    {
     "data": {
      "text/plain": [
       "RandomForestClassifier(class_weight='balanced_subsample', max_depth=13,\n",
       "                       max_features=0.7, max_samples=0.6, min_samples_leaf=20,\n",
       "                       min_samples_split=20, n_estimators=200, random_state=42)"
      ]
     },
     "execution_count": 16,
     "metadata": {},
     "output_type": "execute_result"
    }
   ],
   "source": [
    "search.best_estimator_"
   ]
  },
  {
   "cell_type": "code",
   "execution_count": 17,
   "metadata": {},
   "outputs": [
    {
     "name": "stdout",
     "output_type": "stream",
     "text": [
      "              precision    recall  f1-score   support\n",
      "\n",
      "           0       0.87      0.85      0.86      5873\n",
      "           1       0.50      0.55      0.52      1627\n",
      "\n",
      "    accuracy                           0.78      7500\n",
      "   macro avg       0.68      0.70      0.69      7500\n",
      "weighted avg       0.79      0.78      0.79      7500\n",
      "\n"
     ]
    }
   ],
   "source": [
    "y_pred = search.best_estimator_.predict(X_test)\n",
    "print(classification_report(y_test, y_pred))"
   ]
  },
  {
   "cell_type": "markdown",
   "metadata": {},
   "source": [
    "# Project Descrition\n",
    "This repository aims to create a model for default payment prediction from the dataset [https://archive.ics.uci.edu/ml/datasets/default+of+credit+card+clients]()\n",
    "\n",
    "## Environment setup\n",
    "In the following lines of commands, you will create the env, install the main packages, and made the env a visible kernel in Jupyter notebooks.\n",
    "```terminal\n",
    "$ conda create -n credit_card python=3.6\n",
    "$ conda activate credit_card\n",
    "$ pip install pandas\n",
    "$ conda install -c conda-forge fdasrsf\n",
    "$ pip install scikit-fda\n",
    "$ pip install statsmodels\n",
    "$ pip install ipykernel\n",
    "$ python -m ipykernel install --user --name=credit_card\n",
    "$ pip install xlrd\n",
    "$ pip install imblearn\n",
    "```\n",
    "# How to read this project\n",
    "1. Start by `default_payment.ipynb`, where you can find a full exploratory data analysis, variable selection and two models training with hand-made hyperparameter tuning.\n",
    "1. GridSearch"
   ]
  },
  {
   "cell_type": "code",
   "execution_count": 18,
   "metadata": {},
   "outputs": [
    {
     "name": "stdout",
     "output_type": "stream",
     "text": [
      "'default of credit card clients.xls'   GridSearch.ipynb   yeh2009.pdf\r\n",
      " default_payment.ipynb                 README.md\r\n"
     ]
    }
   ],
   "source": [
    "ls"
   ]
  },
  {
   "cell_type": "code",
   "execution_count": null,
   "metadata": {},
   "outputs": [],
   "source": []
  }
 ],
 "metadata": {
  "kernelspec": {
   "display_name": "credit_card",
   "language": "python",
   "name": "credit_card"
  },
  "language_info": {
   "codemirror_mode": {
    "name": "ipython",
    "version": 3
   },
   "file_extension": ".py",
   "mimetype": "text/x-python",
   "name": "python",
   "nbconvert_exporter": "python",
   "pygments_lexer": "ipython3",
   "version": "3.6.13"
  }
 },
 "nbformat": 4,
 "nbformat_minor": 4
}
